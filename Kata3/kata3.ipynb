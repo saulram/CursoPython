{
 "cells": [
  {
   "cell_type": "markdown",
   "metadata": {},
   "source": [
    "# Kata 3"
   ]
  },
  {
   "cell_type": "markdown",
   "metadata": {},
   "source": [
    "# Advertencia de asteroide"
   ]
  },
  {
   "cell_type": "code",
   "execution_count": 6,
   "metadata": {},
   "outputs": [
    {
     "name": "stdout",
     "output_type": "stream",
     "text": [
      "Cuidado! se acerca un asteroide\n"
     ]
    }
   ],
   "source": [
    "velAsteroide = 49\n",
    "if velAsteroide > 25:\n",
    "    print(\"Cuidado! se acerca un asteroide\")\n",
    "else:\n",
    "    print(\"Nada de que preocuparse\")"
   ]
  },
  {
   "cell_type": "markdown",
   "metadata": {},
   "source": [
    "# Rayo de Luz"
   ]
  },
  {
   "cell_type": "code",
   "execution_count": 7,
   "metadata": {},
   "outputs": [
    {
     "name": "stdout",
     "output_type": "stream",
     "text": [
      "No hay nada que ver en el cielo\n"
     ]
    }
   ],
   "source": [
    "velAsteroide = 19\n",
    "if velAsteroide > 20:\n",
    "    print(\"Mira esa luz en el cielo\")\n",
    "elif velAsteroide == 20:\n",
    "    print(\"Mira esa luz en el cielo\")\n",
    "else:\n",
    "    print(\"No hay nada que ver en el cielo\")"
   ]
  },
  {
   "cell_type": "markdown",
   "metadata": {},
   "source": [
    "# Advertencias e informacion "
   ]
  },
  {
   "cell_type": "code",
   "execution_count": 14,
   "metadata": {},
   "outputs": [
    {
     "name": "stdout",
     "output_type": "stream",
     "text": [
      "No hay nada que ver en el cielo\n"
     ]
    }
   ],
   "source": [
    "velAsteroide = 19\n",
    "tamAsteroide = 27\n",
    "if velAsteroide > 25 and tamAsteroide > 25:\n",
    "    print(\"Cuidad! un gran asteroide se acerca a la tierra\")\n",
    "elif velAsteroide >= 20:\n",
    "    print(\"Mira es luz en el cielo\")\n",
    "elif tamAsteroide < 25:\n",
    "    print(\"Nada de que preocuparse\")\n",
    "else:\n",
    "    print(\"No hay nada que ver en el cielo\")"
   ]
  }
 ],
 "metadata": {
  "interpreter": {
   "hash": "e95c1abdb5e73f550b6e1138bb41d9f21df1472a77468a5b4cf299945fc7b7ff"
  },
  "kernelspec": {
   "display_name": "Python 3.10.2 64-bit (system)",
   "language": "python",
   "name": "python3"
  },
  "language_info": {
   "codemirror_mode": {
    "name": "ipython",
    "version": 3
   },
   "file_extension": ".py",
   "mimetype": "text/x-python",
   "name": "python",
   "nbconvert_exporter": "python",
   "pygments_lexer": "ipython3",
   "version": "3.10.2"
  },
  "orig_nbformat": 4
 },
 "nbformat": 4,
 "nbformat_minor": 2
}
