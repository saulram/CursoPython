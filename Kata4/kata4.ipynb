{
 "cells": [
  {
   "cell_type": "markdown",
   "metadata": {},
   "source": [
    "# Kata 4 "
   ]
  },
  {
   "cell_type": "markdown",
   "metadata": {},
   "source": [
    "# Transformar cadenas"
   ]
  },
  {
   "cell_type": "code",
   "execution_count": 15,
   "metadata": {},
   "outputs": [
    {
     "name": "stdout",
     "output_type": "stream",
     "text": [
      "* palabraClave: average-  On average, the Moon moves 4cm away from the Earth every year\n",
      "* palabraClave: temperature-  The highest daylight temperature of the Moon is 127 C\n",
      "\n",
      "* replace:  The highest daylight temperature of the Moon is 127 Celsius\n"
     ]
    }
   ],
   "source": [
    "texto = \"\"\"Interesting facts about the Moon. The Moon is Earth's only satellite. There are several interesting facts about the Moon and how it affects life here on Earth. On average, the Moon moves 4cm away from the Earth every year. This yearly drift is not significant enough to cause immediate effects on Earth. The highest daylight temperature of the Moon is 127 C.\"\"\"\n",
    "\n",
    "#Dividimos el texto en oraciones.\n",
    "oraciones = texto.split(\".\")\n",
    "\n",
    "#Creamos el arreglo con las palabras clave\n",
    "palabrasClave = [\"average\", \"temperature\" , \"distance\"]\n",
    "\n",
    "#Recorremos el arreglo de las oraciones y en cada iteracion buscamamos cada palabra clave\n",
    "#Imprimimos cada oracion si existe la palabra clave\n",
    "for oracion in oraciones:\n",
    "    for palabraClave in palabrasClave:\n",
    "        if palabraClave in oracion:\n",
    "            print(\"* palabraClave: \" + palabraClave + \"- \" + oracion)\n",
    "            break\n",
    "\n",
    "#Recorremos el arreglo de oraciones y buscamos el caracter C\n",
    "#Si existe el caracter se remplaza por la cadena Celsius\n",
    "for oracion in oraciones:\n",
    "    if \"C\" in oracion:\n",
    "        print(\"\\n* replace: \" + oracion.replace(\"C\",\"Celsius\"))\n",
    "        break\n",
    "\n"
   ]
  },
  {
   "cell_type": "markdown",
   "metadata": {},
   "source": [
    "# Formateando Cadenas"
   ]
  },
  {
   "cell_type": "code",
   "execution_count": 22,
   "metadata": {},
   "outputs": [
    {
     "name": "stdout",
     "output_type": "stream",
     "text": [
      "LUNARIO \n",
      "\n",
      "    planeta: Earth\n",
      "    luna: Moon\n",
      "    gravedad: 1.6199999999999999\n",
      "    \n"
     ]
    }
   ],
   "source": [
    "# Datos con los que vas a trabajar\n",
    "name = \"Moon\"\n",
    "gravity = 0.00162 # in kms\n",
    "planet = \"Earth\"\n",
    "titulo = \"Lunario\"\n",
    "\n",
    "informacion = f\"\"\"\n",
    "    planeta: {planet}\n",
    "    luna: {name}\n",
    "    gravedad: {gravity *1000}\n",
    "    \"\"\"\n",
    "\n",
    "documento = f\"\"\"{titulo.upper()} \\n{informacion}\"\"\"\n",
    "\n",
    "print(documento.format(planet,name,gravity))\n"
   ]
  }
 ],
 "metadata": {
  "interpreter": {
   "hash": "e95c1abdb5e73f550b6e1138bb41d9f21df1472a77468a5b4cf299945fc7b7ff"
  },
  "kernelspec": {
   "display_name": "Python 3.10.2 64-bit (system)",
   "language": "python",
   "name": "python3"
  },
  "language_info": {
   "codemirror_mode": {
    "name": "ipython",
    "version": 3
   },
   "file_extension": ".py",
   "mimetype": "text/x-python",
   "name": "python",
   "nbconvert_exporter": "python",
   "pygments_lexer": "ipython3",
   "version": "3.10.2"
  },
  "orig_nbformat": 4
 },
 "nbformat": 4,
 "nbformat_minor": 2
}
