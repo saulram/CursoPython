{
 "cells": [
  {
   "cell_type": "markdown",
   "metadata": {},
   "source": [
    "# Kata 6 \n",
    "\n",
    "# Listas"
   ]
  },
  {
   "cell_type": "code",
   "execution_count": 4,
   "metadata": {},
   "outputs": [
    {
     "name": "stdout",
     "output_type": "stream",
     "text": [
      "Pluton\n"
     ]
    }
   ],
   "source": [
    "planetas = ['Mercury', 'Venus', 'Earth', 'Mars', 'Jupiter', 'Saturn', 'Uranus', 'Neptune']\n",
    "\n",
    "planetas.append('Pluton')\n",
    "print(planetas[-1])"
   ]
  },
  {
   "cell_type": "markdown",
   "metadata": {},
   "source": [
    "# Ejercicio 2"
   ]
  },
  {
   "cell_type": "code",
   "execution_count": 13,
   "metadata": {},
   "outputs": [
    {
     "name": "stdout",
     "output_type": "stream",
     "text": [
      "Estos son los planetas mas cercanos al sol: ['Mercury', 'Venus', 'Earth']\n",
      "Estos son los planetas mas lejanos al sol: ['Jupiter', 'Saturn', 'Neptune']\n"
     ]
    }
   ],
   "source": [
    "# Lista de planetas\n",
    "planetas = ['Mercury', 'Venus', 'Earth', 'Mars', 'Jupiter', 'Saturn', 'Neptune']\n",
    "planeta = input(\"¿Que planeta deseas ver?\")\n",
    "\n",
    "numPlaneta = planetas.index(planeta)\n",
    "print(\"Estos son los planetas mas cercanos al sol: \" + str(planetas[0:numPlaneta]))\n",
    "print(\"Estos son los planetas mas lejanos al sol: \" + str(planetas[numPlaneta+1:]))"
   ]
  }
 ],
 "metadata": {
  "interpreter": {
   "hash": "e95c1abdb5e73f550b6e1138bb41d9f21df1472a77468a5b4cf299945fc7b7ff"
  },
  "kernelspec": {
   "display_name": "Python 3.10.2 64-bit (system)",
   "language": "python",
   "name": "python3"
  },
  "language_info": {
   "codemirror_mode": {
    "name": "ipython",
    "version": 3
   },
   "file_extension": ".py",
   "mimetype": "text/x-python",
   "name": "python",
   "nbconvert_exporter": "python",
   "pygments_lexer": "ipython3",
   "version": "3.10.2"
  },
  "orig_nbformat": 4
 },
 "nbformat": 4,
 "nbformat_minor": 2
}
