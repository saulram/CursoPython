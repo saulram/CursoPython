{
 "cells": [
  {
   "cell_type": "markdown",
   "metadata": {},
   "source": [
    "# Kata 10\n"
   ]
  },
  {
   "cell_type": "markdown",
   "metadata": {},
   "source": [
    "# Manejo de errores"
   ]
  },
  {
   "cell_type": "code",
   "execution_count": 10,
   "metadata": {},
   "outputs": [
    {
     "name": "stdout",
     "output_type": "stream",
     "text": [
      "El agua restante es: 6 litros\n"
     ]
    }
   ],
   "source": [
    "#Declaramos la funcion para saber el agua restante\n",
    "def aguaRest(astronautas, litrosRest, diasRest):\n",
    "    for param in [astronautas, litrosRest, diasRest]:\n",
    "        try:\n",
    "            param/10\n",
    "        except TypeError:\n",
    "            raise TypeError('Los argumentos de la función deben ser tipo int')\n",
    "\n",
    "    aguaPorDia = astronautas * 11\n",
    "    aguaPorViaje = aguaPorDia * diasRest\n",
    "    aguaRest = litrosRest - aguaPorViaje\n",
    "\n",
    "    if aguaRest < 0:\n",
    "        raise RuntimeError('El agua ingresada no es sufuciente para el viaje')\n",
    "    return f'El agua restante es: {aguaRest} litros'\n",
    "\n",
    "try:\n",
    "    print(aguaRest(2,50,2))\n",
    "except RuntimeError as err:\n",
    "    print(err)\n",
    "except TypeError as err:\n",
    "    print(err)"
   ]
  }
 ],
 "metadata": {
  "interpreter": {
   "hash": "e95c1abdb5e73f550b6e1138bb41d9f21df1472a77468a5b4cf299945fc7b7ff"
  },
  "kernelspec": {
   "display_name": "Python 3.10.2 64-bit (system)",
   "language": "python",
   "name": "python3"
  },
  "language_info": {
   "codemirror_mode": {
    "name": "ipython",
    "version": 3
   },
   "file_extension": ".py",
   "mimetype": "text/x-python",
   "name": "python",
   "nbconvert_exporter": "python",
   "pygments_lexer": "ipython3",
   "version": "3.10.2"
  },
  "orig_nbformat": 4
 },
 "nbformat": 4,
 "nbformat_minor": 2
}
