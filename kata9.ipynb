{
 "cells": [
  {
   "cell_type": "markdown",
   "metadata": {},
   "source": [
    "# Kata 9 "
   ]
  },
  {
   "cell_type": "code",
   "execution_count": 9,
   "metadata": {},
   "outputs": [
    {
     "name": "stdout",
     "output_type": "stream",
     "text": [
      "\n",
      "    El promedio de los tanques es: 4.0\n",
      "    primer tanque 3\n",
      "    segundo tanque 4\n",
      "    tercer tanque 5 \n"
     ]
    }
   ],
   "source": [
    "#Declaramos la funcion con tres parametros de entrada\n",
    "def tanques(tanq1, tanq2, tanq3):\n",
    "    prom = promedio(tanq1, tanq2, tanq3)\n",
    "    return f\"\"\"\n",
    "    El promedio de los tanques es: {prom}\n",
    "    primer tanque {tanq1}\n",
    "    segundo tanque {tanq2}\n",
    "    tercer tanque {tanq3} \"\"\"\n",
    "\n",
    "# print(tanques(3,4,5))"
   ]
  },
  {
   "cell_type": "code",
   "execution_count": 10,
   "metadata": {},
   "outputs": [
    {
     "name": "stdout",
     "output_type": "stream",
     "text": [
      "\n",
      "    El promedio de los tanques es: 4.0\n",
      "    primer tanque 3\n",
      "    segundo tanque 4\n",
      "    tercer tanque 5 \n"
     ]
    }
   ],
   "source": [
    "#Funcion promedio\n",
    "\n",
    "def promedio(tanq1, tanq2, tanq3):\n",
    "    prom = (tanq1 + tanq2 + tanq3) / 3\n",
    "    return prom\n",
    "\n",
    "print(tanques(3,4,5))"
   ]
  },
  {
   "cell_type": "markdown",
   "metadata": {},
   "source": [
    "# Ejercicio 2"
   ]
  },
  {
   "cell_type": "code",
   "execution_count": 24,
   "metadata": {},
   "outputs": [
    {
     "name": "stdout",
     "output_type": "stream",
     "text": [
      "\n",
      "    Destino Luna\n",
      "    tiempo de viaje 6 minutos\n",
      "    combustible 40 litros\n",
      "    el tanq1 tiene 10 litros\n",
      "el tanq2 tiene 30 litros\n",
      "\n"
     ]
    }
   ],
   "source": [
    "#Declaramos la nueva funcion con parametros variables\n",
    "def nuevoRep(destino, *minutos, **tanques):\n",
    "    reporte = f\"\"\"\n",
    "    Destino {destino}\n",
    "    tiempo de viaje {sum(minutos)} minutos\n",
    "    combustible {sum(tanques.values())} litros\n",
    "    \"\"\"\n",
    "    for name, litros in tanques.items():\n",
    "        reporte += f\"\"\"el {name} tiene {litros} litros\\n\"\"\"\n",
    "\n",
    "    return reporte\n",
    "\n",
    "print(nuevoRep('Luna',1,2,3,tanq1= 10,tanq2 = 30))\n"
   ]
  },
  {
   "cell_type": "markdown",
   "metadata": {},
   "source": []
  }
 ],
 "metadata": {
  "interpreter": {
   "hash": "e95c1abdb5e73f550b6e1138bb41d9f21df1472a77468a5b4cf299945fc7b7ff"
  },
  "kernelspec": {
   "display_name": "Python 3.10.2 64-bit (system)",
   "language": "python",
   "name": "python3"
  },
  "language_info": {
   "codemirror_mode": {
    "name": "ipython",
    "version": 3
   },
   "file_extension": ".py",
   "mimetype": "text/x-python",
   "name": "python",
   "nbconvert_exporter": "python",
   "pygments_lexer": "ipython3",
   "version": "3.10.2"
  },
  "orig_nbformat": 4
 },
 "nbformat": 4,
 "nbformat_minor": 2
}
