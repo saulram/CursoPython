{
 "cells": [
  {
   "cell_type": "markdown",
   "metadata": {},
   "source": [
    "# Kata 5\n",
    "\n",
    "# Operadores aritmeticos"
   ]
  },
  {
   "cell_type": "code",
   "execution_count": 9,
   "metadata": {},
   "outputs": [
    {
     "name": "stdout",
     "output_type": "stream",
     "text": [
      "Distancia entre la Tierra y Jupiter: \n",
      "-628949330 Km\n",
      "-390577533.93 millas\n"
     ]
    }
   ],
   "source": [
    "tierra = 149597870\n",
    "jupiter = 778547200\n",
    "millas = 0.621\n",
    "\n",
    "distanciaPlanetas = jupiter - tierra\n",
    "print(\"Distancia entre la Tierra y Jupiter: \\n-\" + str(distanciaPlanetas) + \" Km\\n-\" + str(distanciaPlanetas * millas) + \" millas\")"
   ]
  },
  {
   "cell_type": "markdown",
   "metadata": {},
   "source": [
    "# Convertir cadenas"
   ]
  },
  {
   "cell_type": "code",
   "execution_count": 11,
   "metadata": {},
   "outputs": [
    {
     "name": "stdout",
     "output_type": "stream",
     "text": [
      "La distancia entre los planetas es: 0millas\n"
     ]
    }
   ],
   "source": [
    "planeta1 = int(input(\"Ingresa la distancia del planeta 1\"))\n",
    "planeta2 = int(input(\"Ingresa la distancia del planeta 2\"))\n",
    "millas = 0.621\n",
    "\n",
    "print(\"La distancia entre los planetas es: \" + str(abs((planeta1 - planeta2) * millas)) + \"millas\")\n"
   ]
  }
 ],
 "metadata": {
  "interpreter": {
   "hash": "e95c1abdb5e73f550b6e1138bb41d9f21df1472a77468a5b4cf299945fc7b7ff"
  },
  "kernelspec": {
   "display_name": "Python 3.10.2 64-bit (system)",
   "language": "python",
   "name": "python3"
  },
  "language_info": {
   "codemirror_mode": {
    "name": "ipython",
    "version": 3
   },
   "file_extension": ".py",
   "mimetype": "text/x-python",
   "name": "python",
   "nbconvert_exporter": "python",
   "pygments_lexer": "ipython3",
   "version": "3.10.2"
  },
  "orig_nbformat": 4
 },
 "nbformat": 4,
 "nbformat_minor": 2
}
